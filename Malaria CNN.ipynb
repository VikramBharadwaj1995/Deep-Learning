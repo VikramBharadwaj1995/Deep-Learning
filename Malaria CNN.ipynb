{
  "cells": [
    {
      "metadata": {
        "_uuid": "8f2839f25d086af736a60e9eeb907d3b93b6e0e5",
        "_cell_guid": "b1076dfc-b9ad-4769-8c92-a6c4dae69d19",
        "trusted": true
      },
      "cell_type": "code",
      "source": "import numpy as np # linear algebra\nimport pandas as pd # data processing, CSV file I/O (e.g. pd.read_csv)\nfrom keras.layers import Dropout, Dense, MaxPooling2D, Conv2D, Flatten, Input\nfrom keras.optimizers import SGD\nfrom keras.models import Sequential\nfrom keras.preprocessing.image import ImageDataGenerator\nimport os\nprint(os.listdir(\"../input/cell_images/cell_images/\"))",
      "execution_count": 20,
      "outputs": [
        {
          "output_type": "stream",
          "text": "['Uninfected', 'Parasitized']\n",
          "name": "stdout"
        }
      ]
    },
    {
      "metadata": {
        "trusted": true,
        "_uuid": "95f904a5ee1b7778c0475c955ab89af415658eb5"
      },
      "cell_type": "code",
      "source": "model = Sequential()\n\n#Add one Layer of the CNN\nmodel.add(Conv2D(32, kernel_size=(3, 3), input_shape=(64, 64, 3), activation='relu'))\nmodel.add(MaxPooling2D(pool_size=(2,2)))\n\n#Add the second one\nmodel.add(Conv2D(32, kernel_size=(3,3), activation='relu'))\nmodel.add(MaxPooling2D(pool_size=(2,2)))\n\n#Flatten and then feed it to the Dense Layer\nmodel.add(Flatten())\nmodel.add(Dense(128, activation='relu'))\nmodel.add(Dropout(0.5))\nmodel.add(Dense(units=1, activation='sigmoid'))\n\n#Compile the CNN\nmodel.compile(optimizer='adam', loss='binary_crossentropy', metrics=['accuracy'])\nmodel.summary()",
      "execution_count": 28,
      "outputs": [
        {
          "output_type": "stream",
          "text": "_________________________________________________________________\nLayer (type)                 Output Shape              Param #   \n=================================================================\nconv2d_13 (Conv2D)           (None, 62, 62, 32)        896       \n_________________________________________________________________\nmax_pooling2d_13 (MaxPooling (None, 31, 31, 32)        0         \n_________________________________________________________________\nconv2d_14 (Conv2D)           (None, 29, 29, 32)        9248      \n_________________________________________________________________\nmax_pooling2d_14 (MaxPooling (None, 14, 14, 32)        0         \n_________________________________________________________________\nflatten_3 (Flatten)          (None, 6272)              0         \n_________________________________________________________________\ndense_13 (Dense)             (None, 128)               802944    \n_________________________________________________________________\ndropout_7 (Dropout)          (None, 128)               0         \n_________________________________________________________________\ndense_14 (Dense)             (None, 1)                 129       \n=================================================================\nTotal params: 813,217\nTrainable params: 813,217\nNon-trainable params: 0\n_________________________________________________________________\n",
          "name": "stdout"
        }
      ]
    },
    {
      "metadata": {
        "trusted": true,
        "_uuid": "7c48705fc21a4377fa4b9eb64d15510b9967fc8e"
      },
      "cell_type": "code",
      "source": "train_data = ImageDataGenerator(validation_split=0.3, rescale=1./255, shear_range=0.2, \n                                zoom_range=0.2, horizontal_flip=True, vertical_flip=True)",
      "execution_count": 29,
      "outputs": []
    },
    {
      "metadata": {
        "trusted": true,
        "_uuid": "0116dc5230284a95b1dc5f1cf64afa5caf976edd"
      },
      "cell_type": "code",
      "source": "train_set = train_data.flow_from_directory(\"../input/cell_images/cell_images/\", \n                                           target_size=(64, 64), \n                                           batch_size=32, class_mode='binary', \n                                           subset='training')",
      "execution_count": 30,
      "outputs": [
        {
          "output_type": "stream",
          "text": "Found 19292 images belonging to 2 classes.\n",
          "name": "stdout"
        }
      ]
    },
    {
      "metadata": {
        "trusted": true,
        "_uuid": "6276381adfe775910ba1688f47f430f26e88c15d"
      },
      "cell_type": "code",
      "source": "test_set = train_data.flow_from_directory(\"../input/cell_images/cell_images/\", \n                                          target_size=(64, 64),\n                                          batch_size=32, class_mode='binary', \n                                          subset='validation')",
      "execution_count": 31,
      "outputs": [
        {
          "output_type": "stream",
          "text": "Found 8266 images belonging to 2 classes.\n",
          "name": "stdout"
        }
      ]
    },
    {
      "metadata": {
        "trusted": true,
        "_uuid": "822ac1698fa4c85754ac8d6a20fcce4bcf0aa50d"
      },
      "cell_type": "code",
      "source": "model.fit_generator(train_set, steps_per_epoch=345, epochs=10, \n          validation_data=test_set, validation_steps=86)",
      "execution_count": 32,
      "outputs": [
        {
          "output_type": "stream",
          "text": "Epoch 1/10\n345/345 [==============================] - 60s 173ms/step - loss: 0.5939 - acc: 0.6803 - val_loss: 0.4019 - val_acc: 0.8608\nEpoch 2/10\n345/345 [==============================] - 52s 150ms/step - loss: 0.2766 - acc: 0.8989 - val_loss: 0.2257 - val_acc: 0.8964\nEpoch 3/10\n345/345 [==============================] - 40s 116ms/step - loss: 0.2290 - acc: 0.9208 - val_loss: 0.1987 - val_acc: 0.9237\nEpoch 4/10\n345/345 [==============================] - 36s 105ms/step - loss: 0.2169 - acc: 0.9338 - val_loss: 0.1729 - val_acc: 0.9421\nEpoch 5/10\n345/345 [==============================] - 36s 105ms/step - loss: 0.2115 - acc: 0.9349 - val_loss: 0.1874 - val_acc: 0.9335\nEpoch 6/10\n345/345 [==============================] - 37s 107ms/step - loss: 0.1988 - acc: 0.9397 - val_loss: 0.1672 - val_acc: 0.9473\nEpoch 7/10\n345/345 [==============================] - 37s 109ms/step - loss: 0.1863 - acc: 0.9415 - val_loss: 0.1754 - val_acc: 0.9359\nEpoch 8/10\n345/345 [==============================] - 38s 110ms/step - loss: 0.1765 - acc: 0.9452 - val_loss: 0.1516 - val_acc: 0.9524\nEpoch 9/10\n345/345 [==============================] - 36s 105ms/step - loss: 0.1658 - acc: 0.9493 - val_loss: 0.1534 - val_acc: 0.9459\nEpoch 10/10\n345/345 [==============================] - 38s 110ms/step - loss: 0.1624 - acc: 0.9491 - val_loss: 0.1760 - val_acc: 0.9260\n",
          "name": "stdout"
        },
        {
          "output_type": "execute_result",
          "execution_count": 32,
          "data": {
            "text/plain": "<keras.callbacks.History at 0x7fa81ff931d0>"
          },
          "metadata": {}
        }
      ]
    },
    {
      "metadata": {
        "trusted": true,
        "_uuid": "8dc30082ee3476172d075eeebff23a25b256202e"
      },
      "cell_type": "code",
      "source": "hist = model.history.history\nval_acc = hist['val_acc']\nacc = hist['acc']\nval_loss = hist['val_loss']\nloss = hist['loss']",
      "execution_count": 43,
      "outputs": []
    },
    {
      "metadata": {
        "trusted": true,
        "_uuid": "8e10b37d9005be6cb52e84e27706e3a06b4cc3db"
      },
      "cell_type": "code",
      "source": "import matplotlib.pyplot as plt\n%matplotlib inline",
      "execution_count": 60,
      "outputs": []
    },
    {
      "metadata": {
        "trusted": true,
        "_uuid": "787f4880787c3ee15a85aa86142f8e6ec8f6f78c"
      },
      "cell_type": "code",
      "source": "plt.plot(epochs, acc, label='Training Accuracy', color='r')\nplt.plot(epochs, val_acc, label='Validation Accuracy', color='b')\nplt.plot(epochs, loss, label='Training Loss', color='y')\nplt.plot(epochs, val_loss, label='Validation Loss', color='g')\nplt.legend()",
      "execution_count": 64,
      "outputs": [
        {
          "output_type": "execute_result",
          "execution_count": 64,
          "data": {
            "text/plain": "<matplotlib.legend.Legend at 0x7fa81ef8b128>"
          },
          "metadata": {}
        },
        {
          "output_type": "display_data",
          "data": {
            "text/plain": "<Figure size 432x288 with 1 Axes>",
            "image/png": "[encoded data removed]"
          },
          "metadata": {}
        }
      ]
    },
    {
      "metadata": {
        "trusted": true,
        "_uuid": "dd1fdf9db4b40ca513a5c8d7cdfda88cda4116b7"
      },
      "cell_type": "code",
      "source": "",
      "execution_count": null,
      "outputs": []
    }
  ],
  "metadata": {
    "kernelspec": {
      "display_name": "Python 3",
      "language": "python",
      "name": "python3"
    },
    "language_info": {
      "name": "python",
      "version": "3.6.6",
      "mimetype": "text/x-python",
      "codemirror_mode": {
        "name": "ipython",
        "version": 3
      },
      "pygments_lexer": "ipython3",
      "nbconvert_exporter": "python",
      "file_extension": ".py"
    }
  },
  "nbformat": 4,
  "nbformat_minor": 1
}