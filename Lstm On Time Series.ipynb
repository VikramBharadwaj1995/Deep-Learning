{
 "cells": [
  {
   "cell_type": "code",
   "execution_count": 1,
   "metadata": {
    "_cell_guid": "b1076dfc-b9ad-4769-8c92-a6c4dae69d19",
    "_uuid": "8f2839f25d086af736a60e9eeb907d3b93b6e0e5"
   },
   "outputs": [
    {
     "name": "stderr",
     "output_type": "stream",
     "text": [
      "Using TensorFlow backend.\n"
     ]
    }
   ],
   "source": [
    "import numpy as np # linear algebra\n",
    "import pandas as pd # data processing, CSV file I/O (e.g. pd.read_csv)\n",
    "import os\n",
    "from sklearn.model_selection import train_test_split\n",
    "from sklearn.preprocessing import MinMaxScaler\n",
    "from keras.models import Sequential\n",
    "from keras.layers import LSTM, Dense\n",
    "import matplotlib.pyplot as plt"
   ]
  },
  {
   "cell_type": "code",
   "execution_count": 2,
   "metadata": {
    "_cell_guid": "79c7e3d0-c299-4dcb-8224-4455121ee9b0",
    "_uuid": "d629ff2d2480ee46fbb7e2d37f6b5fab8052498a"
   },
   "outputs": [],
   "source": [
    "train1_df = pd.read_csv(\"../input/train_1.csv\").fillna(0)"
   ]
  },
  {
   "cell_type": "code",
   "execution_count": 3,
   "metadata": {},
   "outputs": [],
   "source": [
    "train1_df = train1_df.drop('Page', axis=1)"
   ]
  },
  {
   "cell_type": "code",
   "execution_count": 4,
   "metadata": {},
   "outputs": [],
   "source": [
    "random_row = train1_df.iloc[90000,:].values\n",
    "X = random_row[0:549]\n",
    "Y = random_row[1:550]"
   ]
  },
  {
   "cell_type": "code",
   "execution_count": 5,
   "metadata": {},
   "outputs": [],
   "source": [
    "X_train, X_test, Y_train, Y_test = train_test_split(X, Y, test_size=0.3, random_state=0)"
   ]
  },
  {
   "cell_type": "code",
   "execution_count": 6,
   "metadata": {},
   "outputs": [],
   "source": [
    "sc = MinMaxScaler()\n",
    "X_train = X_train.reshape((-1, 1))\n",
    "Y_train = Y_train.reshape((-1, 1))\n",
    "X_train = sc.fit_transform(X_train)\n",
    "Y_train  = sc.fit_transform(Y_train)"
   ]
  },
  {
   "cell_type": "code",
   "execution_count": 7,
   "metadata": {},
   "outputs": [],
   "source": [
    "X_train = np.reshape(X_train, (384,1,1))"
   ]
  },
  {
   "cell_type": "code",
   "execution_count": 8,
   "metadata": {},
   "outputs": [
    {
     "name": "stdout",
     "output_type": "stream",
     "text": [
      "WARNING:tensorflow:From /opt/conda/lib/python3.6/site-packages/tensorflow/python/framework/op_def_library.py:263: colocate_with (from tensorflow.python.framework.ops) is deprecated and will be removed in a future version.\n",
      "Instructions for updating:\n",
      "Colocations handled automatically by placer.\n",
      "_________________________________________________________________\n",
      "Layer (type)                 Output Shape              Param #   \n",
      "=================================================================\n",
      "lstm_1 (LSTM)                (None, 8)                 320       \n",
      "_________________________________________________________________\n",
      "dense_1 (Dense)              (None, 1)                 9         \n",
      "=================================================================\n",
      "Total params: 329\n",
      "Trainable params: 329\n",
      "Non-trainable params: 0\n",
      "_________________________________________________________________\n"
     ]
    }
   ],
   "source": [
    "lstm_impl = Sequential()\n",
    "lstm_impl.add(LSTM(8, activation='tanh', input_shape=(None,1)))\n",
    "lstm_impl.add(Dense(units=1))\n",
    "lstm_impl.compile(optimizer='adam', loss='mean_squared_error', metrics=['accuracy'])\n",
    "lstm_impl.summary()"
   ]
  },
  {
   "cell_type": "code",
   "execution_count": 9,
   "metadata": {},
   "outputs": [
    {
     "name": "stdout",
     "output_type": "stream",
     "text": [
      "WARNING:tensorflow:From /opt/conda/lib/python3.6/site-packages/tensorflow/python/ops/math_ops.py:3066: to_int32 (from tensorflow.python.ops.math_ops) is deprecated and will be removed in a future version.\n",
      "Instructions for updating:\n",
      "Use tf.cast instead.\n",
      "Epoch 1/100\n",
      "384/384 [==============================] - 1s 3ms/step - loss: 0.0090 - acc: 0.9349\n",
      "Epoch 2/100\n",
      "384/384 [==============================] - 0s 330us/step - loss: 0.0088 - acc: 0.9349\n",
      "Epoch 3/100\n",
      "384/384 [==============================] - 0s 300us/step - loss: 0.0087 - acc: 0.9349\n",
      "Epoch 4/100\n",
      "384/384 [==============================] - 0s 319us/step - loss: 0.0085 - acc: 0.9349\n",
      "Epoch 5/100\n",
      "384/384 [==============================] - 0s 314us/step - loss: 0.0084 - acc: 0.9349\n",
      "Epoch 6/100\n",
      "384/384 [==============================] - 0s 314us/step - loss: 0.0083 - acc: 0.9349\n",
      "Epoch 7/100\n",
      "384/384 [==============================] - 0s 322us/step - loss: 0.0082 - acc: 0.9349\n",
      "Epoch 8/100\n",
      "384/384 [==============================] - 0s 319us/step - loss: 0.0081 - acc: 0.9349\n",
      "Epoch 9/100\n",
      "384/384 [==============================] - 0s 360us/step - loss: 0.0079 - acc: 0.9349\n",
      "Epoch 10/100\n",
      "384/384 [==============================] - 0s 343us/step - loss: 0.0078 - acc: 0.9349\n",
      "Epoch 11/100\n",
      "384/384 [==============================] - 0s 328us/step - loss: 0.0077 - acc: 0.9349\n",
      "Epoch 12/100\n",
      "384/384 [==============================] - 0s 317us/step - loss: 0.0076 - acc: 0.9349\n",
      "Epoch 13/100\n",
      "384/384 [==============================] - 0s 316us/step - loss: 0.0074 - acc: 0.9349\n",
      "Epoch 14/100\n",
      "384/384 [==============================] - 0s 348us/step - loss: 0.0073 - acc: 0.9349\n",
      "Epoch 15/100\n",
      "384/384 [==============================] - 0s 310us/step - loss: 0.0071 - acc: 0.9349\n",
      "Epoch 16/100\n",
      "384/384 [==============================] - 0s 322us/step - loss: 0.0070 - acc: 0.9349\n",
      "Epoch 17/100\n",
      "384/384 [==============================] - 0s 279us/step - loss: 0.0067 - acc: 0.9349\n",
      "Epoch 18/100\n",
      "384/384 [==============================] - 0s 224us/step - loss: 0.0065 - acc: 0.9349\n",
      "Epoch 19/100\n",
      "384/384 [==============================] - 0s 228us/step - loss: 0.0064 - acc: 0.9349\n",
      "Epoch 20/100\n",
      "384/384 [==============================] - 0s 227us/step - loss: 0.0062 - acc: 0.9349\n",
      "Epoch 21/100\n",
      "384/384 [==============================] - 0s 224us/step - loss: 0.0060 - acc: 0.9349\n",
      "Epoch 22/100\n",
      "384/384 [==============================] - 0s 221us/step - loss: 0.0058 - acc: 0.9349\n",
      "Epoch 23/100\n",
      "384/384 [==============================] - 0s 223us/step - loss: 0.0055 - acc: 0.9349\n",
      "Epoch 24/100\n",
      "384/384 [==============================] - 0s 226us/step - loss: 0.0054 - acc: 0.9349\n",
      "Epoch 25/100\n",
      "384/384 [==============================] - 0s 239us/step - loss: 0.0052 - acc: 0.9349\n",
      "Epoch 26/100\n",
      "384/384 [==============================] - 0s 227us/step - loss: 0.0050 - acc: 0.9349\n",
      "Epoch 27/100\n",
      "384/384 [==============================] - 0s 228us/step - loss: 0.0048 - acc: 0.9349\n",
      "Epoch 28/100\n",
      "384/384 [==============================] - 0s 227us/step - loss: 0.0046 - acc: 0.9349\n",
      "Epoch 29/100\n",
      "384/384 [==============================] - 0s 218us/step - loss: 0.0044 - acc: 0.9349\n",
      "Epoch 30/100\n",
      "384/384 [==============================] - 0s 221us/step - loss: 0.0043 - acc: 0.9349\n",
      "Epoch 31/100\n",
      "384/384 [==============================] - 0s 222us/step - loss: 0.0041 - acc: 0.9349\n",
      "Epoch 32/100\n",
      "384/384 [==============================] - 0s 221us/step - loss: 0.0039 - acc: 0.9349\n",
      "Epoch 33/100\n",
      "384/384 [==============================] - 0s 220us/step - loss: 0.0038 - acc: 0.9349\n",
      "Epoch 34/100\n",
      "384/384 [==============================] - 0s 219us/step - loss: 0.0037 - acc: 0.9349\n",
      "Epoch 35/100\n",
      "384/384 [==============================] - 0s 227us/step - loss: 0.0035 - acc: 0.9349\n",
      "Epoch 36/100\n",
      "384/384 [==============================] - 0s 222us/step - loss: 0.0034 - acc: 0.9349\n",
      "Epoch 37/100\n",
      "384/384 [==============================] - 0s 228us/step - loss: 0.0033 - acc: 0.9349\n",
      "Epoch 38/100\n",
      "384/384 [==============================] - 0s 232us/step - loss: 0.0032 - acc: 0.9375\n",
      "Epoch 39/100\n",
      "384/384 [==============================] - 0s 221us/step - loss: 0.0031 - acc: 0.9375\n",
      "Epoch 40/100\n",
      "384/384 [==============================] - 0s 218us/step - loss: 0.0031 - acc: 0.9375\n",
      "Epoch 41/100\n",
      "384/384 [==============================] - 0s 214us/step - loss: 0.0030 - acc: 0.9375\n",
      "Epoch 42/100\n",
      "384/384 [==============================] - 0s 220us/step - loss: 0.0030 - acc: 0.9375\n",
      "Epoch 43/100\n",
      "384/384 [==============================] - 0s 221us/step - loss: 0.0029 - acc: 0.9375\n",
      "Epoch 44/100\n",
      "384/384 [==============================] - 0s 225us/step - loss: 0.0029 - acc: 0.9375\n",
      "Epoch 45/100\n",
      "384/384 [==============================] - 0s 220us/step - loss: 0.0028 - acc: 0.9375\n",
      "Epoch 46/100\n",
      "384/384 [==============================] - 0s 221us/step - loss: 0.0028 - acc: 0.9375\n",
      "Epoch 47/100\n",
      "384/384 [==============================] - 0s 222us/step - loss: 0.0028 - acc: 0.9375\n",
      "Epoch 48/100\n",
      "384/384 [==============================] - 0s 226us/step - loss: 0.0028 - acc: 0.9375\n",
      "Epoch 49/100\n",
      "384/384 [==============================] - 0s 257us/step - loss: 0.0027 - acc: 0.9375\n",
      "Epoch 50/100\n",
      "384/384 [==============================] - 0s 230us/step - loss: 0.0028 - acc: 0.9375\n",
      "Epoch 51/100\n",
      "384/384 [==============================] - 0s 220us/step - loss: 0.0027 - acc: 0.9375\n",
      "Epoch 52/100\n",
      "384/384 [==============================] - 0s 221us/step - loss: 0.0027 - acc: 0.9375\n",
      "Epoch 53/100\n",
      "384/384 [==============================] - 0s 222us/step - loss: 0.0027 - acc: 0.9375\n",
      "Epoch 54/100\n",
      "384/384 [==============================] - 0s 221us/step - loss: 0.0027 - acc: 0.9375\n",
      "Epoch 55/100\n",
      "384/384 [==============================] - 0s 220us/step - loss: 0.0027 - acc: 0.9375\n",
      "Epoch 56/100\n",
      "384/384 [==============================] - 0s 223us/step - loss: 0.0027 - acc: 0.9375\n",
      "Epoch 57/100\n",
      "384/384 [==============================] - 0s 233us/step - loss: 0.0027 - acc: 0.9375\n",
      "Epoch 58/100\n",
      "384/384 [==============================] - 0s 253us/step - loss: 0.0027 - acc: 0.9375\n",
      "Epoch 59/100\n",
      "384/384 [==============================] - 0s 241us/step - loss: 0.0027 - acc: 0.9375\n",
      "Epoch 60/100\n",
      "384/384 [==============================] - 0s 257us/step - loss: 0.0027 - acc: 0.9375\n",
      "Epoch 61/100\n",
      "384/384 [==============================] - 0s 252us/step - loss: 0.0027 - acc: 0.9375\n",
      "Epoch 62/100\n",
      "384/384 [==============================] - 0s 246us/step - loss: 0.0027 - acc: 0.9375\n",
      "Epoch 63/100\n",
      "384/384 [==============================] - 0s 243us/step - loss: 0.0028 - acc: 0.9375\n",
      "Epoch 64/100\n",
      "384/384 [==============================] - 0s 240us/step - loss: 0.0027 - acc: 0.9375\n",
      "Epoch 65/100\n",
      "384/384 [==============================] - 0s 239us/step - loss: 0.0027 - acc: 0.9375\n",
      "Epoch 66/100\n",
      "384/384 [==============================] - 0s 240us/step - loss: 0.0028 - acc: 0.9375\n",
      "Epoch 67/100\n",
      "384/384 [==============================] - 0s 240us/step - loss: 0.0027 - acc: 0.9375\n",
      "Epoch 68/100\n",
      "384/384 [==============================] - 0s 244us/step - loss: 0.0027 - acc: 0.9375\n",
      "Epoch 69/100\n",
      "384/384 [==============================] - 0s 256us/step - loss: 0.0027 - acc: 0.9375\n",
      "Epoch 70/100\n",
      "384/384 [==============================] - 0s 251us/step - loss: 0.0027 - acc: 0.9375\n",
      "Epoch 71/100\n",
      "384/384 [==============================] - 0s 256us/step - loss: 0.0027 - acc: 0.9375\n",
      "Epoch 72/100\n",
      "384/384 [==============================] - 0s 249us/step - loss: 0.0027 - acc: 0.9375\n",
      "Epoch 73/100\n",
      "384/384 [==============================] - 0s 244us/step - loss: 0.0027 - acc: 0.9375\n",
      "Epoch 74/100\n",
      "384/384 [==============================] - 0s 245us/step - loss: 0.0027 - acc: 0.9375\n",
      "Epoch 75/100\n",
      "384/384 [==============================] - 0s 253us/step - loss: 0.0027 - acc: 0.9375\n",
      "Epoch 76/100\n",
      "384/384 [==============================] - 0s 247us/step - loss: 0.0027 - acc: 0.9375\n",
      "Epoch 77/100\n",
      "384/384 [==============================] - 0s 252us/step - loss: 0.0027 - acc: 0.9375\n",
      "Epoch 78/100\n",
      "384/384 [==============================] - 0s 245us/step - loss: 0.0027 - acc: 0.9375\n",
      "Epoch 79/100\n",
      "384/384 [==============================] - 0s 275us/step - loss: 0.0027 - acc: 0.9375\n",
      "Epoch 80/100\n",
      "384/384 [==============================] - 0s 252us/step - loss: 0.0027 - acc: 0.9375\n",
      "Epoch 81/100\n",
      "384/384 [==============================] - 0s 262us/step - loss: 0.0027 - acc: 0.9375\n",
      "Epoch 82/100\n",
      "384/384 [==============================] - 0s 247us/step - loss: 0.0027 - acc: 0.9375\n",
      "Epoch 83/100\n",
      "384/384 [==============================] - 0s 249us/step - loss: 0.0027 - acc: 0.9375\n",
      "Epoch 84/100\n",
      "384/384 [==============================] - 0s 243us/step - loss: 0.0027 - acc: 0.9375\n",
      "Epoch 85/100\n",
      "384/384 [==============================] - 0s 245us/step - loss: 0.0027 - acc: 0.9375\n",
      "Epoch 86/100\n",
      "384/384 [==============================] - 0s 245us/step - loss: 0.0027 - acc: 0.9375\n",
      "Epoch 87/100\n",
      "384/384 [==============================] - 0s 244us/step - loss: 0.0027 - acc: 0.9375\n",
      "Epoch 88/100\n",
      "384/384 [==============================] - 0s 246us/step - loss: 0.0027 - acc: 0.9375\n",
      "Epoch 89/100\n",
      "384/384 [==============================] - 0s 250us/step - loss: 0.0027 - acc: 0.9375\n",
      "Epoch 90/100\n",
      "384/384 [==============================] - 0s 268us/step - loss: 0.0027 - acc: 0.9375\n",
      "Epoch 91/100\n",
      "384/384 [==============================] - 0s 248us/step - loss: 0.0027 - acc: 0.9375\n",
      "Epoch 92/100\n",
      "384/384 [==============================] - 0s 259us/step - loss: 0.0027 - acc: 0.9375\n",
      "Epoch 93/100\n",
      "384/384 [==============================] - 0s 252us/step - loss: 0.0027 - acc: 0.9375\n",
      "Epoch 94/100\n",
      "384/384 [==============================] - 0s 243us/step - loss: 0.0027 - acc: 0.9375\n",
      "Epoch 95/100\n",
      "384/384 [==============================] - 0s 239us/step - loss: 0.0027 - acc: 0.9375\n",
      "Epoch 96/100\n",
      "384/384 [==============================] - 0s 253us/step - loss: 0.0027 - acc: 0.9375\n",
      "Epoch 97/100\n",
      "384/384 [==============================] - 0s 254us/step - loss: 0.0027 - acc: 0.9375\n",
      "Epoch 98/100\n",
      "384/384 [==============================] - 0s 246us/step - loss: 0.0027 - acc: 0.9375\n",
      "Epoch 99/100\n",
      "384/384 [==============================] - 0s 243us/step - loss: 0.0027 - acc: 0.9375\n",
      "Epoch 100/100\n",
      "384/384 [==============================] - 0s 248us/step - loss: 0.0027 - acc: 0.9375\n"
     ]
    },
    {
     "data": {
      "text/plain": [
       "<keras.callbacks.History at 0x7fd932ffcb38>"
      ]
     },
     "execution_count": 9,
     "metadata": {},
     "output_type": "execute_result"
    }
   ],
   "source": [
    "lstm_impl.fit(X_train, Y_train, batch_size=10, epochs=100, verbose=1)"
   ]
  },
  {
   "cell_type": "code",
   "execution_count": 10,
   "metadata": {},
   "outputs": [],
   "source": [
    "inputs = X_test\n",
    "inputs = np.reshape(X_test, (-1,1))\n",
    "inputs = sc.transform(inputs)\n",
    "inputs = np.reshape(inputs, (165,1,1))"
   ]
  },
  {
   "cell_type": "code",
   "execution_count": 11,
   "metadata": {},
   "outputs": [],
   "source": [
    "Y_predicit = lstm_impl.predict(inputs)\n",
    "Y_predicit = sc.inverse_transform(Y_predicit)"
   ]
  },
  {
   "cell_type": "code",
   "execution_count": 12,
   "metadata": {},
   "outputs": [
    {
     "data": {
      "image/png": "[encoded data removed]",
      "text/plain": [
       "<Figure size 432x288 with 1 Axes>"
      ]
     },
     "metadata": {},
     "output_type": "display_data"
    }
   ],
   "source": [
    "plt.figure\n",
    "plt.plot(Y_test, color='red', label='Real Web Count')\n",
    "plt.plot(Y_predicit, color='blue', label='LSTM Prediction')\n",
    "plt.title('LSTM Predictions for Web Views')\n",
    "plt.xlabel('Number of Days')\n",
    "plt.ylabel('Web View Count')\n",
    "plt.legend()\n",
    "plt.show()"
   ]
  }
 ],
 "metadata": {
  "kernelspec": {
   "display_name": "Python 3",
   "language": "python",
   "name": "python3"
  },
  "language_info": {
   "codemirror_mode": {
    "name": "ipython",
    "version": 3
   },
   "file_extension": ".py",
   "mimetype": "text/x-python",
   "name": "python",
   "nbconvert_exporter": "python",
   "pygments_lexer": "ipython3",
   "version": "3.6.0"
  }
 },
 "nbformat": 4,
 "nbformat_minor": 1
}
